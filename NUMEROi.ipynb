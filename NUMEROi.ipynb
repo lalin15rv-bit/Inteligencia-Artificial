{
  "nbformat": 4,
  "nbformat_minor": 0,
  "metadata": {
    "colab": {
      "provenance": [],
      "include_colab_link": true
    },
    "kernelspec": {
      "name": "python3",
      "display_name": "Python 3"
    },
    "language_info": {
      "name": "python"
    }
  },
  "cells": [
    {
      "cell_type": "markdown",
      "metadata": {
        "id": "view-in-github",
        "colab_type": "text"
      },
      "source": [
        "<a href=\"https://colab.research.google.com/github/lalin15rv-bit/Inteligencia-Artificial/blob/main/NUMEROi.ipynb\" target=\"_parent\"><img src=\"https://colab.research.google.com/assets/colab-badge.svg\" alt=\"Open In Colab\"/></a>"
      ]
    },
    {
      "cell_type": "code",
      "execution_count": null,
      "metadata": {
        "colab": {
          "base_uri": "https://localhost:8080/"
        },
        "id": "Bz_F_gB1aa3g",
        "outputId": "7fa46d5d-ce52-47f3-de92-d02591acf22b"
      },
      "outputs": [
        {
          "output_type": "stream",
          "name": "stdout",
          "text": [
            "id: 9e3f7ce4-b9a7-4244-b709-dae5c1f1d4a8\n",
            "name: Harry Potter\n"
          ]
        }
      ],
      "source": [
        "import urllib.request\n",
        "import json\n",
        "\n",
        "# URL de la API (puedes reemplazarla por una real como OpenWeatherMap)\n",
        "url = \"https://hp-api.onrender.com/api/characters\"\n",
        "\n",
        "try:\n",
        "    # Realiza la solicitud HTTP GET\n",
        "    with urllib.request.urlopen(url) as response:\n",
        "        # Lee y decodifica el contenido\n",
        "        data = response.read().decode()\n",
        "\n",
        "        # Convierte el JSON en un diccionario de Python\n",
        "        caracter = json.loads(data)\n",
        "\n",
        "        # Muestra algunos datos\n",
        "        print(\"id:\", caracter[0][\"id\"])\n",
        "        print(\"name:\", caracter[0][\"name\"])\n",
        "\n",
        "except urllib.error.URLError as e:\n",
        "    print(\"Error al conectar con la API:\", e)"
      ]
    },
    {
      "cell_type": "code",
      "source": [
        "personajes = json.loads(data)\n",
        "\n",
        "# Iteramos sobre cada personaje\n",
        "for p in personajes:\n",
        "    nombre = p.get(\"name\", \"Sin nombre\")\n",
        "    casa = p.get(\"house\", \"Sin casa\")\n",
        "    actor = p.get(\"actor\", \"Desconocido\")\n",
        "    print(f\"{nombre}\")\n",
        "\n"
      ],
      "metadata": {
        "colab": {
          "base_uri": "https://localhost:8080/"
        },
        "id": "nl74xux1igI5",
        "outputId": "98f2e793-50ae-4ad5-aaaa-6bd8ed0bb18b"
      },
      "execution_count": null,
      "outputs": [
        {
          "output_type": "stream",
          "name": "stdout",
          "text": [
            "Harry Potter\n",
            "Hermione Granger\n",
            "Ron Weasley\n",
            "Draco Malfoy\n",
            "Minerva McGonagall\n",
            "Cedric Diggory\n",
            "Cho Chang\n",
            "Severus Snape\n",
            "Rubeus Hagrid\n",
            "Neville Longbottom\n",
            "Luna Lovegood\n",
            "Ginny Weasley\n",
            "Sirius Black\n",
            "Remus Lupin\n",
            "Arthur Weasley\n",
            "Bellatrix Lestrange\n",
            "Lord Voldemort\n",
            "Horace Slughorn\n",
            "Kingsley Shacklebolt\n",
            "Dolores Umbridge\n",
            "Lucius Malfoy\n",
            "Vincent Crabbe\n",
            "Mr Crabbe\n",
            "Gregory Goyle\n",
            "Mr Goyle\n",
            "Mrs Norris\n",
            "Argus Filch\n",
            "Vernon Dursley\n",
            "Petunia Dursley\n",
            "Dudley Dursley\n",
            "Boa constrictor\n",
            "Lily Potter\n",
            "James Potter\n",
            "Albus Dumbledore\n",
            "Fawkes\n",
            "Madam Pomfrey\n",
            "Mrs Figg\n",
            "Marge Dursley\n",
            "Ripper\n",
            "Yvonne\n",
            "Piers Polkiss\n",
            "Dennis\n",
            "Malcolm\n",
            "Gordon\n",
            "Miranda Gaushawk\n",
            "Bathilda Bagshot\n",
            "Adalbert Waffling\n",
            "Emeric Switch\n",
            "Phyllida Spore\n",
            "Arsenius Jigger\n",
            "Newt Scamander\n",
            "Quentin Trimble\n",
            "Tom\n",
            "Doris Crockford\n",
            "Quirinus Quirrel\n",
            "Griphook\n",
            "Madam Malkin\n",
            "Vindictus Viridian\n",
            "Garrick Ollivander\n",
            "Hedwig\n",
            "Trevor\n",
            "Hermes\n",
            "Errol\n",
            "Pigwidgeon\n",
            "Molly Weasley\n",
            "Percy Weasley\n",
            "Fred Weasley\n",
            "George Weasley\n",
            "Lee Jordan\n",
            "Bill Weasley\n",
            "Charlie Weasley\n",
            "Fat Friar\n",
            "Peeves\n",
            "Hannah Abbott\n",
            "Susan Bones\n",
            "Terry Boot\n",
            "Mandy Brocklehurst\n",
            "Lavender Brown\n",
            "Millicent Bulstrode\n",
            "Justin Finch-Fletchley\n",
            "Seamus Finnigan\n",
            "Mrs Finnigan\n",
            "Mr Finnigan\n",
            "Morag MacDougal\n",
            "Lily Moon\n",
            "Theodore Nott\n",
            "Mr Nott\n",
            "Pansy Parkinson\n",
            "Parvati Patil\n",
            "Padma Patil\n",
            "Sally-Anne Perks\n",
            "Lisa Turpin\n",
            "Blaise Zabini\n",
            "Nearly Headless Nick\n",
            "Bloody Baron\n",
            "The Wailing Widow\n",
            "Fat Lady\n",
            "Pomona Sprout\n",
            "Cuthbert Binns\n",
            "Emeric the Evil\n",
            "Uric the Oddball\n",
            "Filius Flitwick\n",
            "Madam Hooch\n",
            "Oliver Wood\n",
            "Gregory the Smarmy\n",
            "Wizard Baruffio\n",
            "Angelina Johnson\n",
            "Marcus Flint\n",
            "Alicia Spinet\n",
            "Katie Bell\n",
            "Adrian Pucey\n",
            "Miles Bletchley\n",
            "Terence Higgs\n",
            "Fang\n",
            "Fluffy\n",
            "Nicolas Flamel\n",
            "Gellert Grindelwald\n",
            "Norberta\n",
            "Ronan\n",
            "Bane\n",
            "Firenze\n",
            "The Giant Squid\n",
            "Murcus\n",
            "Elfrick the Eager\n",
            "Perenelle Flamel\n",
            "Bertie Bott\n",
            "Dobby\n",
            "Kreacher\n",
            "Mr Mason\n",
            "Mrs Mason\n",
            "Perkins\n",
            "Celestina Warbeck\n",
            "Gilderoy Lockhart\n",
            "The Basilisk\n",
            "Mundungus Fletcher\n",
            "Mr Borgin\n",
            "Mr Granger\n",
            "Mrs Granger\n",
            "Dr Filibuster\n",
            "Colin Creevey\n",
            "Gladys Gudgeon\n",
            "Veronica Smethley\n",
            "Patrick Delaney-Podmore\n",
            "Z. Nettles\n",
            "D.J. Prod\n",
            "Elsie Prod\n",
            "Moaning Myrtle\n",
            "Godric Gryffindor\n",
            "Rowena Ravenclaw\n",
            "Helga Hufflepuff\n",
            "Salazar Slytherin\n",
            "Madame Pince\n",
            "Milicent Bullstroude\n",
            "Ernie Macmillan\n",
            "Armando Dippet\n",
            "Penelope Clearwater\n",
            "Cornelius Fudge\n",
            "Oblansk\n",
            "Aragog\n",
            "Mosag\n",
            "Stanley Shunpike\n",
            "Ernest Prang\n",
            "Madam Marsh\n",
            "Florean Fortescue\n",
            "Sir Cadogan\n",
            "Sybill Trelawney\n",
            "Buckbeak\n",
            "Peter Pettigrew\n",
            "Crookshanks\n",
            "The Trolley Witch\n",
            "The Sorting Hat\n",
            "Madam Rosmerta\n",
            "Derek\n",
            "Septima Vector\n",
            "Cassius Warrington\n",
            "Graham Montague\n",
            "Peregrine Derrick\n",
            "Lucian Bole\n",
            "Walden Macnair\n",
            "Franc Bryce\n",
            "Dot\n",
            "Bertha Jorkins\n",
            "Barty Crouch\n",
            "Barty Crouch Junior\n",
            "Mrs Crouch\n",
            "Ludo Bagman\n",
            "Amos Diggory\n",
            "Mrs Diggory\n",
            "Mr Roberts\n",
            "Mrs Roberts\n",
            "Kevin\n",
            "Mr Payne\n",
            "Basil\n",
            "Archie Aymslowe\n",
            "Cuthbert Mockridge\n",
            "Gilbert Wimple\n",
            "Arnold Peasegood\n",
            "Broderick Bode\n",
            "Saul Croaker\n",
            "Ali Bashir\n",
            "Victor Krum\n",
            "Winky\n",
            "Narcissa Malfoy\n",
            "Vasily Dimitrov\n",
            "Clara Ivanova\n",
            "Lev Zograf\n",
            "Alexei Levski\n",
            "Pyotr Vulchanov\n",
            "Ivan Volkov\n",
            "Connolly\n",
            "Barry Ryan\n",
            "Troy\n",
            "Mullet\n",
            "Moran\n",
            "Quigley\n",
            "Aidan Lynch\n",
            "Hassan Mostafa\n",
            "Dennis Creevey\n",
            "Aurora Sinistra\n",
            "Stewart Ackerley\n",
            "Malcolm Baddock\n",
            "Eleanor Branstone\n",
            "Owen Cauldwell\n",
            "Emma Dobbs\n",
            "Laura Madley\n",
            "Natalie McDonald\n",
            "Graham Pritchard\n",
            "Orla Quirke\n",
            "Kevin Whitby\n",
            "Eloise Midgen\n",
            "Alastor Moody\n",
            "Madame Maxime\n",
            "Igor Karkaroff\n",
            "Poliakoff\n",
            "Fawcett\n",
            "Summers\n",
            "Fleur Delacour\n",
            "Gregorovic\n",
            "Rita Skeeter\n",
            "Stebbins\n",
            "Wilhelmina Grubbly-Plank\n",
            "Bozo\n",
            "Evan Rosier\n",
            "Wilkes\n",
            "Avery\n",
            "Antonin Dolohov\n",
            "Travers\n",
            "Marlene McKinnon\n",
            "Mulciber\n",
            "Augustus Rookwood\n",
            "Frank Longbottom\n",
            "Alice Longbottom\n",
            "Augusta Longbottom\n",
            "Violet\n",
            "Apollyon Pringle\n",
            "Ogg\n",
            "Mafalda Hopkirk\n",
            "Nymphadora Tonks\n",
            "Elphias Doge\n",
            "Dedalus Diggle\n",
            "Sturgis Podmore\n",
            "Hestia Jones\n",
            "Ragnok\n",
            "Alphard Black\n",
            "Regulus Black\n",
            "Phineas Nigelus Black\n",
            "Araminta Meliflua Black\n",
            "Elladora Black\n",
            "Mrs Black\n",
            "Andromeda Tonks\n",
            "Ted Tonks\n",
            "Rodolphus Lestrange\n",
            "Rabastan Lestrange\n",
            "Eric Munch\n",
            "Bob\n",
            "Bengie Fenwick\n",
            "Edgar Bones\n",
            "Amelia Bones\n",
            "Caradoc Dearborn\n",
            "Gideon Prewett\n",
            "Fabian Prewett\n",
            "Aberforth Dumbledore\n",
            "Dorcas Meadowes\n",
            "Algie Longbottom\n",
            "Anthony Goldstein\n",
            "Doris Purkiss\n",
            "Euan Abercrombie\n",
            "Rose Zeller\n",
            "Patricia Stimpson\n",
            "Kenneth Towler\n",
            "Vicky Frobisher\n",
            "Geoffrey Hooper\n",
            "Cassandra Trelawney\n",
            "Michael Corner\n",
            "Zacharias Smith\n",
            "Barnabas the Barmy\n",
            "Karkus\n",
            "Golgomath\n",
            "Fridwulfa\n",
            "Andrew Kirke\n",
            "Jack Sloper\n",
            "Everard\n",
            "Dilys Derwent\n",
            "Hippocrates Smethwyck\n",
            "Augustus Pye\n",
            "Urquhart Rackharrow\n",
            "Willy Widdershins\n",
            "Agnes\n",
            "Miriam Strout\n",
            "Madam Puddifoot\n",
            "Summerby\n",
            "Marietta Edgecombe\n",
            "Madam Edgecombe\n",
            "John Dawlish\n",
            "Williamson\n",
            "Bradley\n",
            "Roger Davies\n",
            "Grawp\n",
            "Griselda Marchbanks\n",
            "Eddie Carmichael\n",
            "Daphne Greengrass\n",
            "Tofty\n",
            "Tiberius Ogden\n",
            "Pierre Bonaccord\n",
            "Stubby Boardman\n",
            "Magorian\n",
            "Emmeline Vance\n",
            "Herbert Chorley\n",
            "The British Prime Minister\n",
            "Ulick Gamp\n",
            "Rufus Scrimgeour\n",
            "Corban Yaxley\n",
            "Fenrir Greyback\n",
            "Dirk Cresswell\n",
            "Barnabas Cuffe\n",
            "Ambrosius Flume\n",
            "Gwenog Jones\n",
            "Arkie Philpott\n",
            "Verity\n",
            "Arnold\n",
            "Romilda Vane\n",
            "Cormac McLaggen\n",
            "Marcus Belby\n",
            "Damocles Belby\n",
            "Tiberius\n",
            "Bertie Higgs\n",
            "Proudfoot\n",
            "Savage\n",
            "Humphrey Belcher\n",
            "Bob Ogden\n",
            "Morfin Gaunt\n",
            "Marvolo Gaunt\n",
            "Merope Gaunt\n",
            "Cecilia\n",
            "Tom Riddle\n",
            "Demelza Robins\n",
            "Jimmy Peakes\n",
            "Ritchie Coote\n",
            "Melinda Bobbin\n",
            "Leanne\n",
            "Caractacus Burke\n",
            "Billy Stubbs\n",
            "Amy Benson\n",
            "Dennis Bishop\n",
            "Mrs Cole\n",
            "Eric Whalley\n",
            "Vaisey\n",
            "Harper\n",
            "Urquhart\n",
            "Eldred Worple\n",
            "Sanguini\n",
            "Gawain Robards\n",
            "Fergus\n",
            "Wilkie Twycross\n",
            "Cadwallader\n",
            "Galatea Merrythought\n",
            "Hepzibah Smith\n",
            "Hokey\n",
            "Octavius Pepper\n",
            "Bertram Aubrey\n",
            "Eileen Prince\n",
            "Amycus Carrow\n",
            "Alecto Carrow\n",
            "Gibbon\n",
            "Tobias Snape\n",
            "Pius Thicknesse\n",
            "Wakanda\n",
            "Charity Burbage\n",
            "Percival Dumbledore\n",
            "Kendra Dumbledore\n",
            "Ariana Dumbledore\n",
            "Betty Braithwaite\n",
            "Apolline Delacour\n",
            "Gabrielle Delacour\n",
            "Monsieur Delacour\n",
            "Dragomir Gorgovitch\n",
            "Xenophilius Lovegood\n",
            "Pandora Lovegood\n",
            "Muriel\n",
            "Bilius\n",
            "Thorfinn Rowle\n",
            "Reg Cattermole\n",
            "Albert Runcorn\n",
            "Arkie Alderton\n",
            "Mary Cattermole\n",
            "Maisie Cattermole\n",
            "Ellie Cattermole\n",
            "Alfred Cattermole\n",
            "Gornuk\n",
            "Bowman Wright\n",
            "Ivor Dillonsby\n",
            "Enid Smeek\n",
            "Egbert the Egregious\n",
            "Godelot\n",
            "Hereward\n",
            "Loxias\n",
            "Barnabas Deverill\n",
            "Arcus\n",
            "Livius\n",
            "Antioch Peverell\n",
            "Cadmus Peverell\n",
            "Ignotus Peverell\n",
            "Selwyn\n",
            "Scabior\n",
            "Ragnuk the First\n",
            "Ted Lupin\n",
            "Marius\n",
            "Bogrod\n",
            "The Grey Lady\n",
            "Dexter Fortescue\n",
            "Lily Potter\n",
            "James Potter\n",
            "Albus Severus Potter\n",
            "Rose Weasley\n",
            "Hugo Weasley\n",
            "Scorpius Malfoy\n",
            "Victoire Weasley\n"
          ]
        }
      ]
    },
    {
      "cell_type": "code",
      "source": [
        "personajes = json.loads(data)\n",
        "\n",
        "# Iteramos sobre cada personaje\n",
        "for p in personajes:\n",
        "    nombre = p.get(\"name\", \"Sin nombre\")\n",
        "    casa = p.get(\"house\", \"Sin casa\")\n",
        "    actor = p.get(\"actor\", \"Desconocido\")\n",
        "    print(f\"{nombre}\")\n",
        "\n"
      ],
      "metadata": {
        "colab": {
          "base_uri": "https://localhost:8080/"
        },
        "outputId": "98f2e793-50ae-4ad5-aaaa-6bd8ed0bb18b",
        "id": "9s3wOaj_jjBP"
      },
      "execution_count": null,
      "outputs": [
        {
          "output_type": "stream",
          "name": "stdout",
          "text": [
            "Harry Potter\n",
            "Hermione Granger\n",
            "Ron Weasley\n",
            "Draco Malfoy\n",
            "Minerva McGonagall\n",
            "Cedric Diggory\n",
            "Cho Chang\n",
            "Severus Snape\n",
            "Rubeus Hagrid\n",
            "Neville Longbottom\n",
            "Luna Lovegood\n",
            "Ginny Weasley\n",
            "Sirius Black\n",
            "Remus Lupin\n",
            "Arthur Weasley\n",
            "Bellatrix Lestrange\n",
            "Lord Voldemort\n",
            "Horace Slughorn\n",
            "Kingsley Shacklebolt\n",
            "Dolores Umbridge\n",
            "Lucius Malfoy\n",
            "Vincent Crabbe\n",
            "Mr Crabbe\n",
            "Gregory Goyle\n",
            "Mr Goyle\n",
            "Mrs Norris\n",
            "Argus Filch\n",
            "Vernon Dursley\n",
            "Petunia Dursley\n",
            "Dudley Dursley\n",
            "Boa constrictor\n",
            "Lily Potter\n",
            "James Potter\n",
            "Albus Dumbledore\n",
            "Fawkes\n",
            "Madam Pomfrey\n",
            "Mrs Figg\n",
            "Marge Dursley\n",
            "Ripper\n",
            "Yvonne\n",
            "Piers Polkiss\n",
            "Dennis\n",
            "Malcolm\n",
            "Gordon\n",
            "Miranda Gaushawk\n",
            "Bathilda Bagshot\n",
            "Adalbert Waffling\n",
            "Emeric Switch\n",
            "Phyllida Spore\n",
            "Arsenius Jigger\n",
            "Newt Scamander\n",
            "Quentin Trimble\n",
            "Tom\n",
            "Doris Crockford\n",
            "Quirinus Quirrel\n",
            "Griphook\n",
            "Madam Malkin\n",
            "Vindictus Viridian\n",
            "Garrick Ollivander\n",
            "Hedwig\n",
            "Trevor\n",
            "Hermes\n",
            "Errol\n",
            "Pigwidgeon\n",
            "Molly Weasley\n",
            "Percy Weasley\n",
            "Fred Weasley\n",
            "George Weasley\n",
            "Lee Jordan\n",
            "Bill Weasley\n",
            "Charlie Weasley\n",
            "Fat Friar\n",
            "Peeves\n",
            "Hannah Abbott\n",
            "Susan Bones\n",
            "Terry Boot\n",
            "Mandy Brocklehurst\n",
            "Lavender Brown\n",
            "Millicent Bulstrode\n",
            "Justin Finch-Fletchley\n",
            "Seamus Finnigan\n",
            "Mrs Finnigan\n",
            "Mr Finnigan\n",
            "Morag MacDougal\n",
            "Lily Moon\n",
            "Theodore Nott\n",
            "Mr Nott\n",
            "Pansy Parkinson\n",
            "Parvati Patil\n",
            "Padma Patil\n",
            "Sally-Anne Perks\n",
            "Lisa Turpin\n",
            "Blaise Zabini\n",
            "Nearly Headless Nick\n",
            "Bloody Baron\n",
            "The Wailing Widow\n",
            "Fat Lady\n",
            "Pomona Sprout\n",
            "Cuthbert Binns\n",
            "Emeric the Evil\n",
            "Uric the Oddball\n",
            "Filius Flitwick\n",
            "Madam Hooch\n",
            "Oliver Wood\n",
            "Gregory the Smarmy\n",
            "Wizard Baruffio\n",
            "Angelina Johnson\n",
            "Marcus Flint\n",
            "Alicia Spinet\n",
            "Katie Bell\n",
            "Adrian Pucey\n",
            "Miles Bletchley\n",
            "Terence Higgs\n",
            "Fang\n",
            "Fluffy\n",
            "Nicolas Flamel\n",
            "Gellert Grindelwald\n",
            "Norberta\n",
            "Ronan\n",
            "Bane\n",
            "Firenze\n",
            "The Giant Squid\n",
            "Murcus\n",
            "Elfrick the Eager\n",
            "Perenelle Flamel\n",
            "Bertie Bott\n",
            "Dobby\n",
            "Kreacher\n",
            "Mr Mason\n",
            "Mrs Mason\n",
            "Perkins\n",
            "Celestina Warbeck\n",
            "Gilderoy Lockhart\n",
            "The Basilisk\n",
            "Mundungus Fletcher\n",
            "Mr Borgin\n",
            "Mr Granger\n",
            "Mrs Granger\n",
            "Dr Filibuster\n",
            "Colin Creevey\n",
            "Gladys Gudgeon\n",
            "Veronica Smethley\n",
            "Patrick Delaney-Podmore\n",
            "Z. Nettles\n",
            "D.J. Prod\n",
            "Elsie Prod\n",
            "Moaning Myrtle\n",
            "Godric Gryffindor\n",
            "Rowena Ravenclaw\n",
            "Helga Hufflepuff\n",
            "Salazar Slytherin\n",
            "Madame Pince\n",
            "Milicent Bullstroude\n",
            "Ernie Macmillan\n",
            "Armando Dippet\n",
            "Penelope Clearwater\n",
            "Cornelius Fudge\n",
            "Oblansk\n",
            "Aragog\n",
            "Mosag\n",
            "Stanley Shunpike\n",
            "Ernest Prang\n",
            "Madam Marsh\n",
            "Florean Fortescue\n",
            "Sir Cadogan\n",
            "Sybill Trelawney\n",
            "Buckbeak\n",
            "Peter Pettigrew\n",
            "Crookshanks\n",
            "The Trolley Witch\n",
            "The Sorting Hat\n",
            "Madam Rosmerta\n",
            "Derek\n",
            "Septima Vector\n",
            "Cassius Warrington\n",
            "Graham Montague\n",
            "Peregrine Derrick\n",
            "Lucian Bole\n",
            "Walden Macnair\n",
            "Franc Bryce\n",
            "Dot\n",
            "Bertha Jorkins\n",
            "Barty Crouch\n",
            "Barty Crouch Junior\n",
            "Mrs Crouch\n",
            "Ludo Bagman\n",
            "Amos Diggory\n",
            "Mrs Diggory\n",
            "Mr Roberts\n",
            "Mrs Roberts\n",
            "Kevin\n",
            "Mr Payne\n",
            "Basil\n",
            "Archie Aymslowe\n",
            "Cuthbert Mockridge\n",
            "Gilbert Wimple\n",
            "Arnold Peasegood\n",
            "Broderick Bode\n",
            "Saul Croaker\n",
            "Ali Bashir\n",
            "Victor Krum\n",
            "Winky\n",
            "Narcissa Malfoy\n",
            "Vasily Dimitrov\n",
            "Clara Ivanova\n",
            "Lev Zograf\n",
            "Alexei Levski\n",
            "Pyotr Vulchanov\n",
            "Ivan Volkov\n",
            "Connolly\n",
            "Barry Ryan\n",
            "Troy\n",
            "Mullet\n",
            "Moran\n",
            "Quigley\n",
            "Aidan Lynch\n",
            "Hassan Mostafa\n",
            "Dennis Creevey\n",
            "Aurora Sinistra\n",
            "Stewart Ackerley\n",
            "Malcolm Baddock\n",
            "Eleanor Branstone\n",
            "Owen Cauldwell\n",
            "Emma Dobbs\n",
            "Laura Madley\n",
            "Natalie McDonald\n",
            "Graham Pritchard\n",
            "Orla Quirke\n",
            "Kevin Whitby\n",
            "Eloise Midgen\n",
            "Alastor Moody\n",
            "Madame Maxime\n",
            "Igor Karkaroff\n",
            "Poliakoff\n",
            "Fawcett\n",
            "Summers\n",
            "Fleur Delacour\n",
            "Gregorovic\n",
            "Rita Skeeter\n",
            "Stebbins\n",
            "Wilhelmina Grubbly-Plank\n",
            "Bozo\n",
            "Evan Rosier\n",
            "Wilkes\n",
            "Avery\n",
            "Antonin Dolohov\n",
            "Travers\n",
            "Marlene McKinnon\n",
            "Mulciber\n",
            "Augustus Rookwood\n",
            "Frank Longbottom\n",
            "Alice Longbottom\n",
            "Augusta Longbottom\n",
            "Violet\n",
            "Apollyon Pringle\n",
            "Ogg\n",
            "Mafalda Hopkirk\n",
            "Nymphadora Tonks\n",
            "Elphias Doge\n",
            "Dedalus Diggle\n",
            "Sturgis Podmore\n",
            "Hestia Jones\n",
            "Ragnok\n",
            "Alphard Black\n",
            "Regulus Black\n",
            "Phineas Nigelus Black\n",
            "Araminta Meliflua Black\n",
            "Elladora Black\n",
            "Mrs Black\n",
            "Andromeda Tonks\n",
            "Ted Tonks\n",
            "Rodolphus Lestrange\n",
            "Rabastan Lestrange\n",
            "Eric Munch\n",
            "Bob\n",
            "Bengie Fenwick\n",
            "Edgar Bones\n",
            "Amelia Bones\n",
            "Caradoc Dearborn\n",
            "Gideon Prewett\n",
            "Fabian Prewett\n",
            "Aberforth Dumbledore\n",
            "Dorcas Meadowes\n",
            "Algie Longbottom\n",
            "Anthony Goldstein\n",
            "Doris Purkiss\n",
            "Euan Abercrombie\n",
            "Rose Zeller\n",
            "Patricia Stimpson\n",
            "Kenneth Towler\n",
            "Vicky Frobisher\n",
            "Geoffrey Hooper\n",
            "Cassandra Trelawney\n",
            "Michael Corner\n",
            "Zacharias Smith\n",
            "Barnabas the Barmy\n",
            "Karkus\n",
            "Golgomath\n",
            "Fridwulfa\n",
            "Andrew Kirke\n",
            "Jack Sloper\n",
            "Everard\n",
            "Dilys Derwent\n",
            "Hippocrates Smethwyck\n",
            "Augustus Pye\n",
            "Urquhart Rackharrow\n",
            "Willy Widdershins\n",
            "Agnes\n",
            "Miriam Strout\n",
            "Madam Puddifoot\n",
            "Summerby\n",
            "Marietta Edgecombe\n",
            "Madam Edgecombe\n",
            "John Dawlish\n",
            "Williamson\n",
            "Bradley\n",
            "Roger Davies\n",
            "Grawp\n",
            "Griselda Marchbanks\n",
            "Eddie Carmichael\n",
            "Daphne Greengrass\n",
            "Tofty\n",
            "Tiberius Ogden\n",
            "Pierre Bonaccord\n",
            "Stubby Boardman\n",
            "Magorian\n",
            "Emmeline Vance\n",
            "Herbert Chorley\n",
            "The British Prime Minister\n",
            "Ulick Gamp\n",
            "Rufus Scrimgeour\n",
            "Corban Yaxley\n",
            "Fenrir Greyback\n",
            "Dirk Cresswell\n",
            "Barnabas Cuffe\n",
            "Ambrosius Flume\n",
            "Gwenog Jones\n",
            "Arkie Philpott\n",
            "Verity\n",
            "Arnold\n",
            "Romilda Vane\n",
            "Cormac McLaggen\n",
            "Marcus Belby\n",
            "Damocles Belby\n",
            "Tiberius\n",
            "Bertie Higgs\n",
            "Proudfoot\n",
            "Savage\n",
            "Humphrey Belcher\n",
            "Bob Ogden\n",
            "Morfin Gaunt\n",
            "Marvolo Gaunt\n",
            "Merope Gaunt\n",
            "Cecilia\n",
            "Tom Riddle\n",
            "Demelza Robins\n",
            "Jimmy Peakes\n",
            "Ritchie Coote\n",
            "Melinda Bobbin\n",
            "Leanne\n",
            "Caractacus Burke\n",
            "Billy Stubbs\n",
            "Amy Benson\n",
            "Dennis Bishop\n",
            "Mrs Cole\n",
            "Eric Whalley\n",
            "Vaisey\n",
            "Harper\n",
            "Urquhart\n",
            "Eldred Worple\n",
            "Sanguini\n",
            "Gawain Robards\n",
            "Fergus\n",
            "Wilkie Twycross\n",
            "Cadwallader\n",
            "Galatea Merrythought\n",
            "Hepzibah Smith\n",
            "Hokey\n",
            "Octavius Pepper\n",
            "Bertram Aubrey\n",
            "Eileen Prince\n",
            "Amycus Carrow\n",
            "Alecto Carrow\n",
            "Gibbon\n",
            "Tobias Snape\n",
            "Pius Thicknesse\n",
            "Wakanda\n",
            "Charity Burbage\n",
            "Percival Dumbledore\n",
            "Kendra Dumbledore\n",
            "Ariana Dumbledore\n",
            "Betty Braithwaite\n",
            "Apolline Delacour\n",
            "Gabrielle Delacour\n",
            "Monsieur Delacour\n",
            "Dragomir Gorgovitch\n",
            "Xenophilius Lovegood\n",
            "Pandora Lovegood\n",
            "Muriel\n",
            "Bilius\n",
            "Thorfinn Rowle\n",
            "Reg Cattermole\n",
            "Albert Runcorn\n",
            "Arkie Alderton\n",
            "Mary Cattermole\n",
            "Maisie Cattermole\n",
            "Ellie Cattermole\n",
            "Alfred Cattermole\n",
            "Gornuk\n",
            "Bowman Wright\n",
            "Ivor Dillonsby\n",
            "Enid Smeek\n",
            "Egbert the Egregious\n",
            "Godelot\n",
            "Hereward\n",
            "Loxias\n",
            "Barnabas Deverill\n",
            "Arcus\n",
            "Livius\n",
            "Antioch Peverell\n",
            "Cadmus Peverell\n",
            "Ignotus Peverell\n",
            "Selwyn\n",
            "Scabior\n",
            "Ragnuk the First\n",
            "Ted Lupin\n",
            "Marius\n",
            "Bogrod\n",
            "The Grey Lady\n",
            "Dexter Fortescue\n",
            "Lily Potter\n",
            "James Potter\n",
            "Albus Severus Potter\n",
            "Rose Weasley\n",
            "Hugo Weasley\n",
            "Scorpius Malfoy\n",
            "Victoire Weasley\n"
          ]
        }
      ]
    },
    {
      "cell_type": "code",
      "source": [
        "# Solicita al usuario un texto para filtrar\n",
        "criterio = input(\"Escribe el nombre o casa que deseas buscar: \").lower()\n",
        "# Aplica el filtro\n",
        "resultados = [p for p in personajes if criterio in p[\"name\"].lower() or criterio in p[\"house\"].lower()]\n",
        "\n",
        "# Muestra los resultados\n",
        "if resultados:\n",
        "    for r in resultados:\n",
        "        print(f\"{r['name']} - {r['house']}\")\n",
        "else:\n",
        "    print(\"No se encontraron coincidencias.\")\n",
        "\n",
        "\n"
      ],
      "metadata": {
        "colab": {
          "base_uri": "https://localhost:8080/"
        },
        "id": "EiuHY_dqhyqO",
        "outputId": "43cc0314-ab77-444c-8f31-24dd3bcc3239"
      },
      "execution_count": null,
      "outputs": [
        {
          "output_type": "stream",
          "name": "stdout",
          "text": [
            "Escribe el nombre o casa que deseas buscar: Hu\n",
            "Cedric Diggory - Hufflepuff\n",
            "Arthur Weasley - Gryffindor\n",
            "Newt Scamander - Hufflepuff\n",
            "Fat Friar - Hufflepuff\n",
            "Hannah Abbott - Hufflepuff\n",
            "Susan Bones - Hufflepuff\n",
            "Mandy Brocklehurst - Ravenclaw\n",
            "Justin Finch-Fletchley - Hufflepuff\n",
            "Pomona Sprout - Hufflepuff\n",
            "Helga Hufflepuff - \n",
            "Ernie Macmillan - Hufflepuff\n",
            "Stanley Shunpike - \n",
            "Eleanor Branstone - Hufflepuff\n",
            "Owen Cauldwell - Hufflepuff\n",
            "Laura Madley - Hufflepuff\n",
            "Kevin Whitby - Hufflepuff\n",
            "Summers - Hufflepuff\n",
            "Nymphadora Tonks - Hufflepuff\n",
            "Rodolphus Lestrange - Slytherin\n",
            "Rose Zeller - Hufflepuff\n",
            "Summerby - Hufflepuff\n",
            "Humphrey Belcher - \n",
            "Leanne - Hufflepuff\n",
            "Cadwallader - Hufflepuff\n",
            "Ted Lupin - Hufflepuff\n",
            "Hugo Weasley - \n"
          ]
        }
      ]
    },
    {
      "cell_type": "markdown",
      "source": [
        "clase 28/10/2025\n"
      ],
      "metadata": {
        "id": "5TJYGQG5wJMQ"
      }
    },
    {
      "cell_type": "code",
      "source": [
        "from sklearn.datasets import load_digits\n",
        "\n",
        "digits = load_digits()\n"
      ],
      "metadata": {
        "id": "whsH2orawPGf"
      },
      "execution_count": null,
      "outputs": []
    },
    {
      "cell_type": "code",
      "source": [
        "digits.keys()\n",
        "\n"
      ],
      "metadata": {
        "colab": {
          "base_uri": "https://localhost:8080/"
        },
        "id": "v_p_bWUywWNz",
        "outputId": "c7592178-c34e-4aa3-b454-3338d2eda6b5"
      },
      "execution_count": null,
      "outputs": [
        {
          "output_type": "execute_result",
          "data": {
            "text/plain": [
              "dict_keys(['data', 'target', 'frame', 'feature_names', 'target_names', 'images', 'DESCR'])"
            ]
          },
          "metadata": {},
          "execution_count": 2
        }
      ]
    },
    {
      "cell_type": "code",
      "source": [
        "print(digits.DESCR)\n"
      ],
      "metadata": {
        "colab": {
          "base_uri": "https://localhost:8080/"
        },
        "id": "-MIxdtMjweRO",
        "outputId": "b9ced9f8-79b3-4fd4-e8fd-1003c87493e9"
      },
      "execution_count": null,
      "outputs": [
        {
          "output_type": "stream",
          "name": "stdout",
          "text": [
            ".. _digits_dataset:\n",
            "\n",
            "Optical recognition of handwritten digits dataset\n",
            "--------------------------------------------------\n",
            "\n",
            "**Data Set Characteristics:**\n",
            "\n",
            ":Number of Instances: 1797\n",
            ":Number of Attributes: 64\n",
            ":Attribute Information: 8x8 image of integer pixels in the range 0..16.\n",
            ":Missing Attribute Values: None\n",
            ":Creator: E. Alpaydin (alpaydin '@' boun.edu.tr)\n",
            ":Date: July; 1998\n",
            "\n",
            "This is a copy of the test set of the UCI ML hand-written digits datasets\n",
            "https://archive.ics.uci.edu/ml/datasets/Optical+Recognition+of+Handwritten+Digits\n",
            "\n",
            "The data set contains images of hand-written digits: 10 classes where\n",
            "each class refers to a digit.\n",
            "\n",
            "Preprocessing programs made available by NIST were used to extract\n",
            "normalized bitmaps of handwritten digits from a preprinted form. From a\n",
            "total of 43 people, 30 contributed to the training set and different 13\n",
            "to the test set. 32x32 bitmaps are divided into nonoverlapping blocks of\n",
            "4x4 and the number of on pixels are counted in each block. This generates\n",
            "an input matrix of 8x8 where each element is an integer in the range\n",
            "0..16. This reduces dimensionality and gives invariance to small\n",
            "distortions.\n",
            "\n",
            "For info on NIST preprocessing routines, see M. D. Garris, J. L. Blue, G.\n",
            "T. Candela, D. L. Dimmick, J. Geist, P. J. Grother, S. A. Janet, and C.\n",
            "L. Wilson, NIST Form-Based Handprint Recognition System, NISTIR 5469,\n",
            "1994.\n",
            "\n",
            ".. dropdown:: References\n",
            "\n",
            "  - C. Kaynak (1995) Methods of Combining Multiple Classifiers and Their\n",
            "    Applications to Handwritten Digit Recognition, MSc Thesis, Institute of\n",
            "    Graduate Studies in Science and Engineering, Bogazici University.\n",
            "  - E. Alpaydin, C. Kaynak (1998) Cascading Classifiers, Kybernetika.\n",
            "  - Ken Tang and Ponnuthurai N. Suganthan and Xi Yao and A. Kai Qin.\n",
            "    Linear dimensionalityreduction using relevance weighted LDA. School of\n",
            "    Electrical and Electronic Engineering Nanyang Technological University.\n",
            "    2005.\n",
            "  - Claudio Gentile. A New Approximate Maximal Margin Classification\n",
            "    Algorithm. NIPS. 2000.\n",
            "\n"
          ]
        }
      ]
    },
    {
      "cell_type": "code",
      "source": [
        "index = 12\n"
      ],
      "metadata": {
        "id": "yYlWtu7Wwf7m"
      },
      "execution_count": null,
      "outputs": []
    },
    {
      "cell_type": "code",
      "source": [
        "image = digits.images[index]\n",
        "label = digits.target[index]\n"
      ],
      "metadata": {
        "id": "vKhG-sdTwicf"
      },
      "execution_count": null,
      "outputs": []
    },
    {
      "cell_type": "code",
      "source": [
        "print(image)\n"
      ],
      "metadata": {
        "colab": {
          "base_uri": "https://localhost:8080/"
        },
        "id": "s0yWVf1nwm33",
        "outputId": "55d2a347-c3f0-4dec-ac51-24ce042c9164"
      },
      "execution_count": null,
      "outputs": [
        {
          "output_type": "stream",
          "name": "stdout",
          "text": [
            "[[ 0.  0.  5. 12.  1.  0.  0.  0.]\n",
            " [ 0.  0. 15. 14.  7.  0.  0.  0.]\n",
            " [ 0.  0. 13.  1. 12.  0.  0.  0.]\n",
            " [ 0.  2. 10.  0. 14.  0.  0.  0.]\n",
            " [ 0.  0.  2.  0. 16.  1.  0.  0.]\n",
            " [ 0.  0.  0.  6. 15.  0.  0.  0.]\n",
            " [ 0.  0.  9. 16. 15.  9.  8.  2.]\n",
            " [ 0.  0.  3. 11.  8. 13. 12.  4.]]\n"
          ]
        }
      ]
    },
    {
      "cell_type": "code",
      "source": [
        "import matplotlib.pyplot as plt\n",
        "\n",
        "plt.figure(figsize=(3, 3))\n",
        "plt.imshow(image, cmap=plt.cm.Greens\n",
        "          )\n",
        "plt.title(f'Dígito: {label}')\n",
        "plt.show()\n"
      ],
      "metadata": {
        "colab": {
          "base_uri": "https://localhost:8080/",
          "height": 314
        },
        "id": "KYzs5AOixzx1",
        "outputId": "e1a22b6b-4cb9-484d-9185-dbf434857de8"
      },
      "execution_count": null,
      "outputs": [
        {
          "output_type": "display_data",
          "data": {
            "text/plain": [
              "<Figure size 300x300 with 1 Axes>"
            ],
            "image/png": "[encoded data removed]"
          },
          "metadata": {}
        }
      ]
    },
    {
      "cell_type": "code",
      "source": [
        "import tensorflow as tf\n",
        "from sklearn.model_selection import train_test_split\n",
        "from tensorflow.keras.utils import to_categorical\n",
        "\n",
        "X_train, X_test, y_train, y_test = train_test_split(\n",
        "    digits.data, digits.target,\n",
        "    test_size=0.2, random_state=42\n",
        ")\n",
        "\n",
        "# One-hot encode the target variable\n",
        "y_train = to_categorical(y_train, num_classes=10)\n",
        "y_test = to_categorical(y_test, num_classes=10)\n"
      ],
      "metadata": {
        "id": "bQlP5V6Gx8wu"
      },
      "execution_count": null,
      "outputs": []
    },
    {
      "cell_type": "code",
      "source": [
        "print(X_train.shape)\n",
        "print(X_test.shape)\n"
      ],
      "metadata": {
        "colab": {
          "base_uri": "https://localhost:8080/"
        },
        "id": "2MatYETuyEk-",
        "outputId": "d291899f-9653-4ac5-a606-5fa48813c7b9"
      },
      "execution_count": null,
      "outputs": [
        {
          "output_type": "stream",
          "name": "stdout",
          "text": [
            "(1437, 64)\n",
            "(360, 64)\n"
          ]
        }
      ]
    },
    {
      "cell_type": "code",
      "source": [
        "reshaped_tensor = tf.reshape(X_train[0], shape=(8, 8))\n",
        "print(reshaped_tensor)\n"
      ],
      "metadata": {
        "colab": {
          "base_uri": "https://localhost:8080/"
        },
        "id": "N-17soi8yJVl",
        "outputId": "2088949a-2446-4118-86b4-e807e55386e2"
      },
      "execution_count": null,
      "outputs": [
        {
          "output_type": "stream",
          "name": "stdout",
          "text": [
            "tf.Tensor(\n",
            "[[ 0.  0.  3. 14.  1.  0.  0.  0.]\n",
            " [ 0.  0. 12. 12.  0.  0.  0.  0.]\n",
            " [ 0.  3. 16.  6.  0.  0.  0.  0.]\n",
            " [ 0.  5. 16.  2.  0.  0.  0.  0.]\n",
            " [ 0.  6. 16.  2.  5.  2.  0.  0.]\n",
            " [ 0.  4. 16.  2. 12. 15.  2.  0.]\n",
            " [ 0.  1. 14. 13.  2. 13. 11.  0.]\n",
            " [ 0.  0.  3. 11. 16. 13.  4.  0.]], shape=(8, 8), dtype=float64)\n"
          ]
        }
      ]
    },
    {
      "cell_type": "code",
      "source": [
        "from sklearn.preprocessing import MinMaxScaler, StandardScaler\n",
        "\n",
        "# Normalizar los datos\n",
        "scaler = StandardScaler()\n",
        "X_train = scaler.fit_transform(X_train)\n",
        "X_test = scaler.transform(X_test)"
      ],
      "metadata": {
        "id": "8ldClGKZ2XWq"
      },
      "execution_count": null,
      "outputs": []
    },
    {
      "cell_type": "code",
      "source": [
        "reshaped_tensor = tf.reshape(X_train[0], shape=(8, 8))\n",
        "# Redondeamos para tener una mejor visualizacion\n",
        "reshaped_tensor =  tf.floor(reshaped_tensor * 100) / 100\n",
        "print(reshaped_tensor)"
      ],
      "metadata": {
        "colab": {
          "base_uri": "https://localhost:8080/"
        },
        "id": "HL1ykrOZ2lS7",
        "outputId": "b0553e75-0576-4c3c-d802-9bf0c95d6916"
      },
      "execution_count": null,
      "outputs": [
        {
          "output_type": "stream",
          "name": "stdout",
          "text": [
            "tf.Tensor(\n",
            "[[ 0.   -0.35 -0.47  0.5  -2.55 -1.04 -0.41 -0.14]\n",
            " [-0.07 -0.62  0.3   0.   -2.19 -1.36 -0.53 -0.14]\n",
            " [-0.05  0.12  1.08 -0.2  -1.17 -1.28 -0.56 -0.12]\n",
            " [-0.04  0.86  1.13 -1.17 -1.61 -1.29 -0.63 -0.05]\n",
            " [ 0.    1.09  1.34 -1.13 -0.91 -1.14 -0.82  0.  ]\n",
            " [-0.07  0.82  1.39 -0.83  0.69  1.17 -0.34 -0.1 ]\n",
            " [-0.04  0.15  1.14  0.64 -1.43  0.68  1.47 -0.22]\n",
            " [-0.03 -0.31 -0.5  -0.25  0.84  1.05  0.45 -0.2 ]], shape=(8, 8), dtype=float64)\n"
          ]
        }
      ]
    },
    {
      "cell_type": "code",
      "source": [
        "# Redimensionar el tensor a la forma (total, 8, 8)\n",
        "X_train = tf.reshape(X_train, (X_train.shape[0], 8, 8))\n",
        "X_test = tf.reshape(X_test, (X_test.shape[0], 8, 8))"
      ],
      "metadata": {
        "id": "zowGahTH2sWG"
      },
      "execution_count": null,
      "outputs": []
    },
    {
      "cell_type": "code",
      "source": [
        "from tensorflow.keras.models import Sequential\n",
        "from tensorflow.keras.layers import Dense, Flatten, Conv2D, MaxPooling2D\n",
        "\n",
        "# Crear el modelo de CNN\n",
        "model = Sequential([\n",
        "    Conv2D(32, kernel_size=(3, 3),\n",
        "        activation='relu',\n",
        "        input_shape=(8, 8, 1)\n",
        "    ),\n",
        "    MaxPooling2D(pool_size=(2, 2)),\n",
        "    Flatten(),\n",
        "    Dense(128, activation='relu'),\n",
        "    Dense(10, activation='softmax')\n",
        "])"
      ],
      "metadata": {
        "colab": {
          "base_uri": "https://localhost:8080/"
        },
        "id": "7JU9aauQ2y3b",
        "outputId": "3628e506-87e6-4ef0-ffc5-d6ea2f59749b"
      },
      "execution_count": null,
      "outputs": [
        {
          "output_type": "stream",
          "name": "stderr",
          "text": [
            "/usr/local/lib/python3.12/dist-packages/keras/src/layers/convolutional/base_conv.py:113: UserWarning: Do not pass an `input_shape`/`input_dim` argument to a layer. When using Sequential models, prefer using an `Input(shape)` object as the first layer in the model instead.\n",
            "  super().__init__(activity_regularizer=activity_regularizer, **kwargs)\n"
          ]
        }
      ]
    },
    {
      "cell_type": "code",
      "source": [
        "from tensorflow.keras.optimizers import Adam\n",
        "\n",
        "# Tasa de aprendizaje deseada\n",
        "learning_rate = 0.001\n",
        "adam_optimizer = Adam(learning_rate=learning_rate)"
      ],
      "metadata": {
        "id": "5joXL1JP5uU5"
      },
      "execution_count": null,
      "outputs": []
    },
    {
      "cell_type": "code",
      "source": [
        "model.compile(\n",
        "    optimizer='adam',\n",
        "    loss='categorical_crossentropy',\n",
        "    metrics=['accuracy']\n",
        ")"
      ],
      "metadata": {
        "id": "2l_g_Doi5xCK"
      },
      "execution_count": null,
      "outputs": []
    },
    {
      "cell_type": "code",
      "source": [
        "history = model.fit(\n",
        "    X_train, y_train,\n",
        "    epochs=10,\n",
        "    batch_size=32,\n",
        "    validation_split=0.2\n",
        ")"
      ],
      "metadata": {
        "colab": {
          "base_uri": "https://localhost:8080/"
        },
        "id": "VBPhL9We6FxS",
        "outputId": "a3a02cd2-da0d-4240-db1f-71de1a0e2ba8"
      },
      "execution_count": null,
      "outputs": [
        {
          "output_type": "stream",
          "name": "stdout",
          "text": [
            "Epoch 1/10\n",
            "\u001b[1m36/36\u001b[0m \u001b[32m━━━━━━━━━━━━━━━━━━━━\u001b[0m\u001b[37m\u001b[0m \u001b[1m2s\u001b[0m 13ms/step - accuracy: 0.4019 - loss: 2.0276 - val_accuracy: 0.8438 - val_loss: 0.9788\n",
            "Epoch 2/10\n",
            "\u001b[1m36/36\u001b[0m \u001b[32m━━━━━━━━━━━━━━━━━━━━\u001b[0m\u001b[37m\u001b[0m \u001b[1m0s\u001b[0m 5ms/step - accuracy: 0.8968 - loss: 0.7366 - val_accuracy: 0.9410 - val_loss: 0.3618\n",
            "Epoch 3/10\n",
            "\u001b[1m36/36\u001b[0m \u001b[32m━━━━━━━━━━━━━━━━━━━━\u001b[0m\u001b[37m\u001b[0m \u001b[1m0s\u001b[0m 5ms/step - accuracy: 0.9540 - loss: 0.2639 - val_accuracy: 0.9410 - val_loss: 0.2396\n",
            "Epoch 4/10\n",
            "\u001b[1m36/36\u001b[0m \u001b[32m━━━━━━━━━━━━━━━━━━━━\u001b[0m\u001b[37m\u001b[0m \u001b[1m0s\u001b[0m 5ms/step - accuracy: 0.9708 - loss: 0.1472 - val_accuracy: 0.9653 - val_loss: 0.1868\n",
            "Epoch 5/10\n",
            "\u001b[1m36/36\u001b[0m \u001b[32m━━━━━━━━━━━━━━━━━━━━\u001b[0m\u001b[37m\u001b[0m \u001b[1m0s\u001b[0m 6ms/step - accuracy: 0.9845 - loss: 0.1061 - val_accuracy: 0.9514 - val_loss: 0.1606\n",
            "Epoch 6/10\n",
            "\u001b[1m36/36\u001b[0m \u001b[32m━━━━━━━━━━━━━━━━━━━━\u001b[0m\u001b[37m\u001b[0m \u001b[1m0s\u001b[0m 5ms/step - accuracy: 0.9880 - loss: 0.0865 - val_accuracy: 0.9583 - val_loss: 0.1359\n",
            "Epoch 7/10\n",
            "\u001b[1m36/36\u001b[0m \u001b[32m━━━━━━━━━━━━━━━━━━━━\u001b[0m\u001b[37m\u001b[0m \u001b[1m0s\u001b[0m 5ms/step - accuracy: 0.9845 - loss: 0.0696 - val_accuracy: 0.9653 - val_loss: 0.1193\n",
            "Epoch 8/10\n",
            "\u001b[1m36/36\u001b[0m \u001b[32m━━━━━━━━━━━━━━━━━━━━\u001b[0m\u001b[37m\u001b[0m \u001b[1m0s\u001b[0m 7ms/step - accuracy: 0.9956 - loss: 0.0440 - val_accuracy: 0.9653 - val_loss: 0.1037\n",
            "Epoch 9/10\n",
            "\u001b[1m36/36\u001b[0m \u001b[32m━━━━━━━━━━━━━━━━━━━━\u001b[0m\u001b[37m\u001b[0m \u001b[1m0s\u001b[0m 7ms/step - accuracy: 0.9951 - loss: 0.0412 - val_accuracy: 0.9688 - val_loss: 0.1021\n",
            "Epoch 10/10\n",
            "\u001b[1m36/36\u001b[0m \u001b[32m━━━━━━━━━━━━━━━━━━━━\u001b[0m\u001b[37m\u001b[0m \u001b[1m0s\u001b[0m 7ms/step - accuracy: 0.9951 - loss: 0.0342 - val_accuracy: 0.9688 - val_loss: 0.0906\n"
          ]
        }
      ]
    },
    {
      "cell_type": "code",
      "source": [
        "import matplotlib.pyplot as plt\n",
        "\n",
        "plt.plot(history.history['loss'], label='Pérdida de entrenamiento')\n",
        "plt.plot(history.history['val_loss'], label='Pérdida de validación')\n",
        "plt.xlabel('Épocas')\n",
        "plt.ylabel('Pérdida')\n",
        "plt.legend()\n",
        "plt.title('Función de pérdida durante el entrenamiento')\n",
        "plt.show()\n"
      ],
      "metadata": {
        "colab": {
          "base_uri": "https://localhost:8080/",
          "height": 474
        },
        "id": "17Lyv5lv6KAA",
        "outputId": "2bfe50fb-5b64-417f-cc0c-ee21c735fb73"
      },
      "execution_count": null,
      "outputs": [
        {
          "output_type": "display_data",
          "data": {
            "text/plain": [
              "<Figure size 640x480 with 1 Axes>"
            ],
            "image/png": "[encoded data removed]"
          },
          "metadata": {}
        }
      ]
    },
    {
      "cell_type": "code",
      "source": [
        "loss, accuracy = model.evaluate(X_test, y_test)\n",
        "print(f'Loss: {loss}, Accuracy: {accuracy}')"
      ],
      "metadata": {
        "colab": {
          "base_uri": "https://localhost:8080/"
        },
        "id": "YWzqotME7cB5",
        "outputId": "7ee3f05b-30aa-424a-d1e3-f7ec181169f3"
      },
      "execution_count": null,
      "outputs": [
        {
          "output_type": "stream",
          "name": "stdout",
          "text": [
            "\u001b[1m12/12\u001b[0m \u001b[32m━━━━━━━━━━━━━━━━━━━━\u001b[0m\u001b[37m\u001b[0m \u001b[1m0s\u001b[0m 5ms/step - accuracy: 0.9765 - loss: 0.0702  \n",
            "Loss: 0.0685540959239006, Accuracy: 0.980555534362793\n"
          ]
        }
      ]
    },
    {
      "cell_type": "code",
      "source": [
        "import numpy as np\n",
        "from sklearn.metrics import confusion_matrix, recall_score\n",
        "\n",
        "y_pred = model.predict(X_test)\n",
        "y_pred_classes = np.argmax(y_pred, axis=1)\n",
        "# Convert y_test back to multiclass format\n",
        "y_test_classes = np.argmax(y_test, axis=1)\n",
        "\n",
        "conf_matrix = confusion_matrix(y_test_classes, y_pred_classes)\n",
        "sensitivity = recall_score(y_test_classes, y_pred_classes, average=None)"
      ],
      "metadata": {
        "colab": {
          "base_uri": "https://localhost:8080/"
        },
        "id": "YkqJAr3U7gLQ",
        "outputId": "8ffbd6b4-92ac-45d2-affe-f5e8c652ad78"
      },
      "execution_count": null,
      "outputs": [
        {
          "output_type": "stream",
          "name": "stdout",
          "text": [
            "\u001b[1m12/12\u001b[0m \u001b[32m━━━━━━━━━━━━━━━━━━━━\u001b[0m\u001b[37m\u001b[0m \u001b[1m0s\u001b[0m 9ms/step\n"
          ]
        }
      ]
    },
    {
      "cell_type": "code",
      "source": [
        "import seaborn as sns\n",
        "import matplotlib.pyplot as plt\n",
        "\n",
        "# Visualizar la matriz de confusión como una imagen de colores\n",
        "plt.figure(figsize=(10, 8))\n",
        "sns.heatmap(conf_matrix, annot=True, fmt='d', cmap='Blues')\n",
        "plt.xlabel('Predicted Label')\n",
        "plt.ylabel('True Label')\n",
        "plt.title('Confusion Matrix')\n",
        "plt.show()\n",
        "\n",
        "# Mostrar la sensibilidad (recall) para cada clase\n",
        "print('Sensitivity (Recall) for each class:')\n",
        "for i in range(10):\n",
        "    print(f'Class {i}: {sensitivity[i]}')"
      ],
      "metadata": {
        "colab": {
          "base_uri": "https://localhost:8080/",
          "height": 915
        },
        "id": "D7_FRKan7leK",
        "outputId": "53557784-ff3b-44ab-a396-32a0760da6e1"
      },
      "execution_count": null,
      "outputs": [
        {
          "output_type": "display_data",
          "data": {
            "text/plain": [
              "<Figure size 1000x800 with 2 Axes>"
            ],
            "image/png": "[encoded data removed]"
          },
          "metadata": {}
        },
        {
          "output_type": "stream",
          "name": "stdout",
          "text": [
            "Sensitivity (Recall) for each class:\n",
            "Class 0: 1.0\n",
            "Class 1: 1.0\n",
            "Class 2: 0.9393939393939394\n",
            "Class 3: 0.9705882352941176\n",
            "Class 4: 1.0\n",
            "Class 5: 0.9787234042553191\n",
            "Class 6: 0.9714285714285714\n",
            "Class 7: 0.9705882352941176\n",
            "Class 8: 1.0\n",
            "Class 9: 0.975\n"
          ]
        }
      ]
    },
    {
      "cell_type": "code",
      "source": [
        "from PIL import Image\n",
        "import matplotlib.pyplot as plt\n",
        "\n",
        "# Cambia por el nombre de tu archivo\n",
        "ruta = \"/content/mi_numero.png\"\n",
        "# Escala de grises (\"L\")\n",
        "img = Image.open(ruta).convert(\"L\")\n",
        "\n",
        "# mostrar la imagen\n",
        "plt.figure(figsize=(4, 4))\n",
        "plt.imshow(img, cmap=\"gray\")\n",
        "plt.title(\"Imagen original\")\n",
        "plt.axis(\"off\")\n",
        "plt.show()\n"
      ],
      "metadata": {
        "colab": {
          "base_uri": "https://localhost:8080/",
          "height": 367
        },
        "id": "cB27OY--_CNw",
        "outputId": "ac2e9988-127f-46db-a039-d65b4db80b74"
      },
      "execution_count": null,
      "outputs": [
        {
          "output_type": "display_data",
          "data": {
            "text/plain": [
              "<Figure size 400x400 with 1 Axes>"
            ],
            "image/png": "[encoded data removed]"
          },
          "metadata": {}
        }
      ]
    },
    {
      "cell_type": "code",
      "source": [
        "import matplotlib.pyplot as plt\n",
        "\n",
        "# redimensionar a 8x8\n",
        "img_resized = img.resize((8, 8), Image.Resampling.LANCZOS)\n",
        "\n",
        "# mostrar imagen\n",
        "plt.figure(figsize=(3, 3))\n",
        "plt.imshow(img_resized, cmap=\"gray\")\n",
        "plt.title(\"Imagen redimensionada a 8x8\")\n",
        "plt.axis(\"off\")\n",
        "plt.show()\n",
        "\n",
        "# opcional, guardamos la imagen si es necesario\n",
        "img_resized.save(\"imagen_8x8.png\")\n"
      ],
      "metadata": {
        "colab": {
          "base_uri": "https://localhost:8080/",
          "height": 290
        },
        "id": "dnBNly08AVYA",
        "outputId": "3c8067a3-d87a-419a-a918-7036a5aac291"
      },
      "execution_count": null,
      "outputs": [
        {
          "output_type": "display_data",
          "data": {
            "text/plain": [
              "<Figure size 300x300 with 1 Axes>"
            ],
            "image/png": "[encoded data removed]"
          },
          "metadata": {}
        }
      ]
    },
    {
      "cell_type": "code",
      "source": [
        "import matplotlib.pyplot as plt\n",
        "import numpy as np\n",
        "\n",
        "# reescalar de 0-255 a 0-16 e invertir (fondo negro = 0)\n",
        "img_array = np.array(img_resized).astype(\"float32\")\n",
        "img_array = 16 - (img_array / 255 * 16)\n",
        "\n",
        "# mostrar imagen\n",
        "plt.imshow(img_array, cmap=\"gray\")\n",
        "plt.title(\"Imagen reescalada e invertida (0-16)\")\n",
        "plt.axis(\"off\")\n",
        "plt.show()\n"
      ],
      "metadata": {
        "colab": {
          "base_uri": "https://localhost:8080/",
          "height": 428
        },
        "id": "39KPlJwaAdD3",
        "outputId": "59ef37c4-a060-48bf-a599-bc6db8b2fd90"
      },
      "execution_count": null,
      "outputs": [
        {
          "output_type": "display_data",
          "data": {
            "text/plain": [
              "<Figure size 640x480 with 1 Axes>"
            ],
            "image/png": "[encoded data removed]"
          },
          "metadata": {}
        }
      ]
    },
    {
      "cell_type": "code",
      "source": [
        "from sklearn.preprocessing import StandardScaler\n",
        "\n",
        "# normalizar\n",
        "scaler = StandardScaler()\n",
        "img_flat = img_array\n",
        "img_scaled = scaler.fit_transform(img_flat)\n",
        "\n",
        "# Dar forma (1,8,8) que es el input del modelo\n",
        "img_tensor = img_scaled.reshape(1, 8, 8)"
      ],
      "metadata": {
        "id": "ucApdly3AsF2"
      },
      "execution_count": null,
      "outputs": []
    },
    {
      "cell_type": "code",
      "source": [
        "pred = model.predict(img_tensor)\n",
        "digit = np.argmax(pred)\n",
        "print(\"Predicción:\", digit)"
      ],
      "metadata": {
        "colab": {
          "base_uri": "https://localhost:8080/"
        },
        "id": "1PE8naCoAvUP",
        "outputId": "fe9054cc-cf38-42d5-c5d9-a8dbd2ac38de"
      },
      "execution_count": null,
      "outputs": [
        {
          "output_type": "stream",
          "name": "stdout",
          "text": [
            "\u001b[1m1/1\u001b[0m \u001b[32m━━━━━━━━━━━━━━━━━━━━\u001b[0m\u001b[37m\u001b[0m \u001b[1m0s\u001b[0m 62ms/step\n",
            "Predicción: 4\n"
          ]
        }
      ]
    }
  ]
}