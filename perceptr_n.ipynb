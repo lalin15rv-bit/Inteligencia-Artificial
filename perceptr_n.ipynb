{
  "nbformat": 4,
  "nbformat_minor": 0,
  "metadata": {
    "colab": {
      "provenance": [],
      "authorship_tag": "ABX9TyOa4bDp4g+Gd34+r8Ge73EZ",
      "include_colab_link": true
    },
    "kernelspec": {
      "name": "python3",
      "display_name": "Python 3"
    },
    "language_info": {
      "name": "python"
    }
  },
  "cells": [
    {
      "cell_type": "markdown",
      "metadata": {
        "id": "view-in-github",
        "colab_type": "text"
      },
      "source": [
        "<a href=\"https://colab.research.google.com/github/lalin15rv-bit/Inteligencia-Artificial/blob/main/perceptr_n.ipynb\" target=\"_parent\"><img src=\"https://colab.research.google.com/assets/colab-badge.svg\" alt=\"Open In Colab\"/></a>"
      ]
    },
    {
      "cell_type": "code",
      "execution_count": null,
      "metadata": {
        "id": "szmiirDq-YhR"
      },
      "outputs": [],
      "source": [
        "class Perception:\n",
        "    def __init__(self, pesos, sesgo, tasa_de_aprendizaje):\n",
        "        self.pesos=pesos\n",
        "        self.sesgo=sesgo\n",
        "        self.tasa_de_aprendizaje=tasa_de_aprendizaje\n",
        "        #Agregamos los valores y nuestro constructor (init)\n",
        "\n",
        "    def funcion_activacion(self, Z):\n",
        "        if Z>=0:\n",
        "            return 1\n",
        "        else:\n",
        "            return 0\n",
        "            #Deinimos nuestra unción y lo que hara es la suma con la cuál será nuestro valor Z\n",
        "\n",
        "    def entrenamiento(self, X, Y, epocas):\n",
        "        for epoca in range(epocas):\n",
        "            for dato in X:\n",
        "                x1, x2=dato[0], dato[1]\n",
        "                w1=self.pesos[0]\n",
        "                w2=self.pesos[1]\n",
        "                b=self.sesgo\n",
        "                Z=x1+w1+x2+w2+b\n",
        "                y_pred=self.funcion_activacion(Z)\n",
        "                i=X.index(dato)\n",
        "                y_real=Y[1]\n",
        "                self.pesos[0]=w1+self.tasa_de_aprendizaje*(y_real-y_pred)*x1\n",
        "                self.pesos[1]=w2+self.tasa_de_aprendizaje*(y_real-y_pred)*x2\n",
        "                self.sesgo=b+self.tasa_de_aprendizaje*(y_real-y_pred)\n",
        "                print(f'Dato{dato}, Prediccion{y_pred}, Pesos{self.pesos}, sesgo{self.sesgo}')\n",
        "            print(f'Fin de la epoca{epoca}')\n",
        "\n",
        "            #Colocamos los datos que harán la suma, tambien utilizamos los las epocas donde nos ayuda con\n",
        "            # la suma de las variables que se encuentran en X donde se encuentran los datos\n",
        "            # esto igual nos ayuda con bucles"
      ]
    },
    {
      "cell_type": "code",
      "source": [
        "X=[[1,1],[1,0],[0,1],[0,0]]\n",
        "Y=[1,0,0,0]\n",
        "pesos=[2,3]\n",
        "sesgo=4\n",
        "tasa_aprendizaje=0.1\n",
        "#Tenemos aqui los valores principales donde empiezan a conocer la información"
      ],
      "metadata": {
        "id": "3aAIW5rm-noP"
      },
      "execution_count": null,
      "outputs": []
    },
    {
      "cell_type": "code",
      "source": [
        "p=Perception(pesos, sesgo, tasa_aprendizaje)"
      ],
      "metadata": {
        "id": "HEALm_Yo-uR2"
      },
      "execution_count": null,
      "outputs": []
    },
    {
      "cell_type": "code",
      "source": [
        "p.entrenamiento(X, Y, 20)\n",
        "#Se identifican los datos de entrada de las X con las epocas y se ajustan los pesos y los sesgos de cada columna"
      ],
      "metadata": {
        "colab": {
          "base_uri": "https://localhost:8080/"
        },
        "id": "K9eAX1e2-vbv",
        "outputId": "977c0f12-4c6c-486d-e15f-5da32af2a50e"
      },
      "execution_count": null,
      "outputs": [
        {
          "output_type": "stream",
          "name": "stdout",
          "text": [
            "Dato[1, 1], Prediccion1, Pesos[1.9, 2.9], sesgo3.9\n",
            "Dato[1, 0], Prediccion1, Pesos[1.7999999999999998, 2.9], sesgo3.8\n",
            "Dato[0, 1], Prediccion1, Pesos[1.7999999999999998, 2.8], sesgo3.6999999999999997\n",
            "Dato[0, 0], Prediccion1, Pesos[1.7999999999999998, 2.8], sesgo3.5999999999999996\n",
            "Fin de la epoca0\n",
            "Dato[1, 1], Prediccion1, Pesos[1.6999999999999997, 2.6999999999999997], sesgo3.4999999999999996\n",
            "Dato[1, 0], Prediccion1, Pesos[1.5999999999999996, 2.6999999999999997], sesgo3.3999999999999995\n",
            "Dato[0, 1], Prediccion1, Pesos[1.5999999999999996, 2.5999999999999996], sesgo3.2999999999999994\n",
            "Dato[0, 0], Prediccion1, Pesos[1.5999999999999996, 2.5999999999999996], sesgo3.1999999999999993\n",
            "Fin de la epoca1\n",
            "Dato[1, 1], Prediccion1, Pesos[1.4999999999999996, 2.4999999999999996], sesgo3.099999999999999\n",
            "Dato[1, 0], Prediccion1, Pesos[1.3999999999999995, 2.4999999999999996], sesgo2.999999999999999\n",
            "Dato[0, 1], Prediccion1, Pesos[1.3999999999999995, 2.3999999999999995], sesgo2.899999999999999\n",
            "Dato[0, 0], Prediccion1, Pesos[1.3999999999999995, 2.3999999999999995], sesgo2.799999999999999\n",
            "Fin de la epoca2\n",
            "Dato[1, 1], Prediccion1, Pesos[1.2999999999999994, 2.2999999999999994], sesgo2.699999999999999\n",
            "Dato[1, 0], Prediccion1, Pesos[1.1999999999999993, 2.2999999999999994], sesgo2.5999999999999988\n",
            "Dato[0, 1], Prediccion1, Pesos[1.1999999999999993, 2.1999999999999993], sesgo2.4999999999999987\n",
            "Dato[0, 0], Prediccion1, Pesos[1.1999999999999993, 2.1999999999999993], sesgo2.3999999999999986\n",
            "Fin de la epoca3\n",
            "Dato[1, 1], Prediccion1, Pesos[1.0999999999999992, 2.099999999999999], sesgo2.2999999999999985\n",
            "Dato[1, 0], Prediccion1, Pesos[0.9999999999999992, 2.099999999999999], sesgo2.1999999999999984\n",
            "Dato[0, 1], Prediccion1, Pesos[0.9999999999999992, 1.9999999999999991], sesgo2.0999999999999983\n",
            "Dato[0, 0], Prediccion1, Pesos[0.9999999999999992, 1.9999999999999991], sesgo1.9999999999999982\n",
            "Fin de la epoca4\n",
            "Dato[1, 1], Prediccion1, Pesos[0.8999999999999992, 1.899999999999999], sesgo1.8999999999999981\n",
            "Dato[1, 0], Prediccion1, Pesos[0.7999999999999993, 1.899999999999999], sesgo1.799999999999998\n",
            "Dato[0, 1], Prediccion1, Pesos[0.7999999999999993, 1.799999999999999], sesgo1.699999999999998\n",
            "Dato[0, 0], Prediccion1, Pesos[0.7999999999999993, 1.799999999999999], sesgo1.5999999999999979\n",
            "Fin de la epoca5\n",
            "Dato[1, 1], Prediccion1, Pesos[0.6999999999999993, 1.6999999999999988], sesgo1.4999999999999978\n",
            "Dato[1, 0], Prediccion1, Pesos[0.5999999999999993, 1.6999999999999988], sesgo1.3999999999999977\n",
            "Dato[0, 1], Prediccion1, Pesos[0.5999999999999993, 1.5999999999999988], sesgo1.2999999999999976\n",
            "Dato[0, 0], Prediccion1, Pesos[0.5999999999999993, 1.5999999999999988], sesgo1.1999999999999975\n",
            "Fin de la epoca6\n",
            "Dato[1, 1], Prediccion1, Pesos[0.49999999999999933, 1.4999999999999987], sesgo1.0999999999999974\n",
            "Dato[1, 0], Prediccion1, Pesos[0.39999999999999936, 1.4999999999999987], sesgo0.9999999999999974\n",
            "Dato[0, 1], Prediccion1, Pesos[0.39999999999999936, 1.3999999999999986], sesgo0.8999999999999975\n",
            "Dato[0, 0], Prediccion1, Pesos[0.39999999999999936, 1.3999999999999986], sesgo0.7999999999999975\n",
            "Fin de la epoca7\n",
            "Dato[1, 1], Prediccion1, Pesos[0.2999999999999994, 1.2999999999999985], sesgo0.6999999999999975\n",
            "Dato[1, 0], Prediccion1, Pesos[0.19999999999999937, 1.2999999999999985], sesgo0.5999999999999975\n",
            "Dato[0, 1], Prediccion1, Pesos[0.19999999999999937, 1.1999999999999984], sesgo0.49999999999999756\n",
            "Dato[0, 0], Prediccion1, Pesos[0.19999999999999937, 1.1999999999999984], sesgo0.3999999999999976\n",
            "Fin de la epoca8\n",
            "Dato[1, 1], Prediccion1, Pesos[0.09999999999999937, 1.0999999999999983], sesgo0.2999999999999976\n",
            "Dato[1, 0], Prediccion1, Pesos[-6.38378239159465e-16, 1.0999999999999983], sesgo0.1999999999999976\n",
            "Dato[0, 1], Prediccion1, Pesos[-6.38378239159465e-16, 0.9999999999999983], sesgo0.09999999999999759\n",
            "Dato[0, 0], Prediccion1, Pesos[-6.38378239159465e-16, 0.9999999999999983], sesgo-2.4147350785597155e-15\n",
            "Fin de la epoca9\n",
            "Dato[1, 1], Prediccion1, Pesos[-0.10000000000000064, 0.8999999999999984], sesgo-0.10000000000000242\n",
            "Dato[1, 0], Prediccion1, Pesos[-0.20000000000000065, 0.8999999999999984], sesgo-0.20000000000000243\n",
            "Dato[0, 1], Prediccion1, Pesos[-0.20000000000000065, 0.7999999999999984], sesgo-0.30000000000000243\n",
            "Dato[0, 0], Prediccion1, Pesos[-0.20000000000000065, 0.7999999999999984], sesgo-0.40000000000000246\n",
            "Fin de la epoca10\n",
            "Dato[1, 1], Prediccion1, Pesos[-0.30000000000000066, 0.6999999999999984], sesgo-0.5000000000000024\n",
            "Dato[1, 0], Prediccion1, Pesos[-0.4000000000000007, 0.6999999999999984], sesgo-0.6000000000000024\n",
            "Dato[0, 1], Prediccion1, Pesos[-0.4000000000000007, 0.5999999999999984], sesgo-0.7000000000000024\n",
            "Dato[0, 0], Prediccion0, Pesos[-0.4000000000000007, 0.5999999999999984], sesgo-0.7000000000000024\n",
            "Fin de la epoca11\n",
            "Dato[1, 1], Prediccion1, Pesos[-0.5000000000000007, 0.49999999999999845], sesgo-0.8000000000000024\n",
            "Dato[1, 0], Prediccion1, Pesos[-0.6000000000000006, 0.49999999999999845], sesgo-0.9000000000000024\n",
            "Dato[0, 1], Prediccion0, Pesos[-0.6000000000000006, 0.49999999999999845], sesgo-0.9000000000000024\n",
            "Dato[0, 0], Prediccion0, Pesos[-0.6000000000000006, 0.49999999999999845], sesgo-0.9000000000000024\n",
            "Fin de la epoca12\n",
            "Dato[1, 1], Prediccion1, Pesos[-0.7000000000000006, 0.39999999999999847], sesgo-1.0000000000000024\n",
            "Dato[1, 0], Prediccion0, Pesos[-0.7000000000000006, 0.39999999999999847], sesgo-1.0000000000000024\n",
            "Dato[0, 1], Prediccion0, Pesos[-0.7000000000000006, 0.39999999999999847], sesgo-1.0000000000000024\n",
            "Dato[0, 0], Prediccion0, Pesos[-0.7000000000000006, 0.39999999999999847], sesgo-1.0000000000000024\n",
            "Fin de la epoca13\n",
            "Dato[1, 1], Prediccion1, Pesos[-0.8000000000000006, 0.2999999999999985], sesgo-1.1000000000000025\n",
            "Dato[1, 0], Prediccion0, Pesos[-0.8000000000000006, 0.2999999999999985], sesgo-1.1000000000000025\n",
            "Dato[0, 1], Prediccion0, Pesos[-0.8000000000000006, 0.2999999999999985], sesgo-1.1000000000000025\n",
            "Dato[0, 0], Prediccion0, Pesos[-0.8000000000000006, 0.2999999999999985], sesgo-1.1000000000000025\n",
            "Fin de la epoca14\n",
            "Dato[1, 1], Prediccion1, Pesos[-0.9000000000000006, 0.19999999999999848], sesgo-1.2000000000000026\n",
            "Dato[1, 0], Prediccion0, Pesos[-0.9000000000000006, 0.19999999999999848], sesgo-1.2000000000000026\n",
            "Dato[0, 1], Prediccion0, Pesos[-0.9000000000000006, 0.19999999999999848], sesgo-1.2000000000000026\n",
            "Dato[0, 0], Prediccion0, Pesos[-0.9000000000000006, 0.19999999999999848], sesgo-1.2000000000000026\n",
            "Fin de la epoca15\n",
            "Dato[1, 1], Prediccion1, Pesos[-1.0000000000000007, 0.09999999999999848], sesgo-1.3000000000000027\n",
            "Dato[1, 0], Prediccion0, Pesos[-1.0000000000000007, 0.09999999999999848], sesgo-1.3000000000000027\n",
            "Dato[0, 1], Prediccion0, Pesos[-1.0000000000000007, 0.09999999999999848], sesgo-1.3000000000000027\n",
            "Dato[0, 0], Prediccion0, Pesos[-1.0000000000000007, 0.09999999999999848], sesgo-1.3000000000000027\n",
            "Fin de la epoca16\n",
            "Dato[1, 1], Prediccion0, Pesos[-1.0000000000000007, 0.09999999999999848], sesgo-1.3000000000000027\n",
            "Dato[1, 0], Prediccion0, Pesos[-1.0000000000000007, 0.09999999999999848], sesgo-1.3000000000000027\n",
            "Dato[0, 1], Prediccion0, Pesos[-1.0000000000000007, 0.09999999999999848], sesgo-1.3000000000000027\n",
            "Dato[0, 0], Prediccion0, Pesos[-1.0000000000000007, 0.09999999999999848], sesgo-1.3000000000000027\n",
            "Fin de la epoca17\n",
            "Dato[1, 1], Prediccion0, Pesos[-1.0000000000000007, 0.09999999999999848], sesgo-1.3000000000000027\n",
            "Dato[1, 0], Prediccion0, Pesos[-1.0000000000000007, 0.09999999999999848], sesgo-1.3000000000000027\n",
            "Dato[0, 1], Prediccion0, Pesos[-1.0000000000000007, 0.09999999999999848], sesgo-1.3000000000000027\n",
            "Dato[0, 0], Prediccion0, Pesos[-1.0000000000000007, 0.09999999999999848], sesgo-1.3000000000000027\n",
            "Fin de la epoca18\n",
            "Dato[1, 1], Prediccion0, Pesos[-1.0000000000000007, 0.09999999999999848], sesgo-1.3000000000000027\n",
            "Dato[1, 0], Prediccion0, Pesos[-1.0000000000000007, 0.09999999999999848], sesgo-1.3000000000000027\n",
            "Dato[0, 1], Prediccion0, Pesos[-1.0000000000000007, 0.09999999999999848], sesgo-1.3000000000000027\n",
            "Dato[0, 0], Prediccion0, Pesos[-1.0000000000000007, 0.09999999999999848], sesgo-1.3000000000000027\n",
            "Fin de la epoca19\n"
          ]
        }
      ]
    }
  ]
}